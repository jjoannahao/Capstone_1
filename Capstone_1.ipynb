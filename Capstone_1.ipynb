{
  "nbformat": 4,
  "nbformat_minor": 0,
  "metadata": {
    "colab": {
      "provenance": [],
      "authorship_tag": "ABX9TyPxHpdHKFYStaTZpLD9kcwH",
      "include_colab_link": true
    },
    "kernelspec": {
      "name": "python3",
      "display_name": "Python 3"
    },
    "language_info": {
      "name": "python"
    }
  },
  "cells": [
    {
      "cell_type": "markdown",
      "metadata": {
        "id": "view-in-github",
        "colab_type": "text"
      },
      "source": [
        "<a href=\"https://colab.research.google.com/github/jjoannahao/Capstone_1/blob/main/Capstone_1.ipynb\" target=\"_parent\"><img src=\"https://colab.research.google.com/assets/colab-badge.svg\" alt=\"Open In Colab\"/></a>"
      ]
    },
    {
      "cell_type": "markdown",
      "source": [
        "# CAPSTONE 1: CLIFF WALKING\n",
        "\n",
        "In this environment, the character (agent) aims to try to reach the goal (cookie) without falling off the cliff (burgundy squares).\n",
        "\n",
        "### ACTION SPACE: (all actions agent can take)\n",
        "* 0: move up\n",
        "* 1: move right\n",
        "* 2: move down\n",
        "* 3: move left\n",
        "\n",
        "### OBSERVATION SPACE: (what agent can see about environment)\n",
        "36 possible states since the player cannot be at the cliff or at the goal. So, 3 rows and the bottom left cell where the character initially starts remain.\n",
        "\n",
        "### REWARDS\n",
        "* Taking one step = -1 reward\n",
        "* If the player steps into the cliff, they receive a -100 reward\n",
        "\n",
        "As a result, the ideal situation and maximum (ideal) possible reward is -13 (the minimum number of steps from the starting state to the goal)"
      ],
      "metadata": {
        "id": "hHQQLvh3G_P8"
      }
    },
    {
      "cell_type": "code",
      "execution_count": null,
      "metadata": {
        "colab": {
          "base_uri": "https://localhost:8080/",
          "height": 367
        },
        "id": "hn-rtEL0fgQz",
        "outputId": "76233885-1a3b-41bf-b7a5-327436ae8ad0"
      },
      "outputs": [
        {
          "output_type": "stream",
          "name": "stdout",
          "text": [
            "Requirement already satisfied: gymnasium in /usr/local/lib/python3.10/dist-packages (0.29.1)\n",
            "Requirement already satisfied: numpy>=1.21.0 in /usr/local/lib/python3.10/dist-packages (from gymnasium) (1.26.4)\n",
            "Requirement already satisfied: cloudpickle>=1.2.0 in /usr/local/lib/python3.10/dist-packages (from gymnasium) (2.2.1)\n",
            "Requirement already satisfied: typing-extensions>=4.3.0 in /usr/local/lib/python3.10/dist-packages (from gymnasium) (4.12.2)\n",
            "Requirement already satisfied: farama-notifications>=0.0.1 in /usr/local/lib/python3.10/dist-packages (from gymnasium) (0.0.4)\n"
          ]
        },
        {
          "output_type": "execute_result",
          "data": {
            "text/plain": [
              "array([[[ 91, 150,  97],\n",
              "        [ 91, 150,  97],\n",
              "        [ 91, 150,  97],\n",
              "        ...,\n",
              "        [ 86, 170,  69],\n",
              "        [ 86, 170,  69],\n",
              "        [ 86, 170,  69]],\n",
              "\n",
              "       [[ 91, 150,  97],\n",
              "        [ 91, 150,  97],\n",
              "        [ 91, 150,  97],\n",
              "        ...,\n",
              "        [ 86, 170,  69],\n",
              "        [ 86, 170,  69],\n",
              "        [ 86, 170,  69]],\n",
              "\n",
              "       [[ 91, 150,  97],\n",
              "        [ 91, 150,  97],\n",
              "        [ 98, 166, 105],\n",
              "        ...,\n",
              "        [105, 182,  74],\n",
              "        [105, 182,  74],\n",
              "        [ 86, 170,  69]],\n",
              "\n",
              "       ...,\n",
              "\n",
              "       [[ 86, 170,  69],\n",
              "        [ 86, 170,  69],\n",
              "        [ 93, 188,  74],\n",
              "        ...,\n",
              "        [ 91, 150,  97],\n",
              "        [ 91, 150,  97],\n",
              "        [ 91, 150,  97]],\n",
              "\n",
              "       [[ 86, 170,  69],\n",
              "        [ 86, 170,  69],\n",
              "        [ 93, 188,  74],\n",
              "        ...,\n",
              "        [ 91, 150,  97],\n",
              "        [ 91, 150,  97],\n",
              "        [ 91, 150,  97]],\n",
              "\n",
              "       [[ 86, 170,  69],\n",
              "        [ 86, 170,  69],\n",
              "        [ 86, 170,  69],\n",
              "        ...,\n",
              "        [ 91, 150,  97],\n",
              "        [ 91, 150,  97],\n",
              "        [ 91, 150,  97]]], dtype=uint8)"
            ],
            "text/html": [
              "<style>\n",
              "      .ndarray_repr .ndarray_raw_data {\n",
              "        display: none;\n",
              "      }\n",
              "      .ndarray_repr.show_array .ndarray_raw_data {\n",
              "        display: block;\n",
              "      }\n",
              "      .ndarray_repr.show_array .ndarray_image_preview {\n",
              "        display: none;\n",
              "      }\n",
              "      </style>\n",
              "      <div id=\"id-1d4164e6-3745-4ba5-a351-55e7db9ccaf1\" class=\"ndarray_repr\"><pre>ndarray (240, 720, 3) <button style=\"padding: 0 2px;\">show data</button></pre><img src=\"data:image/png;base64,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\" class=\"ndarray_image_preview\" /><pre class=\"ndarray_raw_data\">array([[[ 91, 150,  97],\n",
              "        [ 91, 150,  97],\n",
              "        [ 91, 150,  97],\n",
              "        ...,\n",
              "        [ 86, 170,  69],\n",
              "        [ 86, 170,  69],\n",
              "        [ 86, 170,  69]],\n",
              "\n",
              "       [[ 91, 150,  97],\n",
              "        [ 91, 150,  97],\n",
              "        [ 91, 150,  97],\n",
              "        ...,\n",
              "        [ 86, 170,  69],\n",
              "        [ 86, 170,  69],\n",
              "        [ 86, 170,  69]],\n",
              "\n",
              "       [[ 91, 150,  97],\n",
              "        [ 91, 150,  97],\n",
              "        [ 98, 166, 105],\n",
              "        ...,\n",
              "        [105, 182,  74],\n",
              "        [105, 182,  74],\n",
              "        [ 86, 170,  69]],\n",
              "\n",
              "       ...,\n",
              "\n",
              "       [[ 86, 170,  69],\n",
              "        [ 86, 170,  69],\n",
              "        [ 93, 188,  74],\n",
              "        ...,\n",
              "        [ 91, 150,  97],\n",
              "        [ 91, 150,  97],\n",
              "        [ 91, 150,  97]],\n",
              "\n",
              "       [[ 86, 170,  69],\n",
              "        [ 86, 170,  69],\n",
              "        [ 93, 188,  74],\n",
              "        ...,\n",
              "        [ 91, 150,  97],\n",
              "        [ 91, 150,  97],\n",
              "        [ 91, 150,  97]],\n",
              "\n",
              "       [[ 86, 170,  69],\n",
              "        [ 86, 170,  69],\n",
              "        [ 86, 170,  69],\n",
              "        ...,\n",
              "        [ 91, 150,  97],\n",
              "        [ 91, 150,  97],\n",
              "        [ 91, 150,  97]]], dtype=uint8)</pre></div><script>\n",
              "      (() => {\n",
              "      const titles = ['show data', 'hide data'];\n",
              "      let index = 0\n",
              "      document.querySelector('#id-1d4164e6-3745-4ba5-a351-55e7db9ccaf1 button').onclick = (e) => {\n",
              "        document.querySelector('#id-1d4164e6-3745-4ba5-a351-55e7db9ccaf1').classList.toggle('show_array');\n",
              "        index = (++index) % 2;\n",
              "        document.querySelector('#id-1d4164e6-3745-4ba5-a351-55e7db9ccaf1 button').textContent = titles[index];\n",
              "        e.preventDefault();\n",
              "        e.stopPropagation();\n",
              "      }\n",
              "      })();\n",
              "    </script>"
            ]
          },
          "metadata": {},
          "execution_count": 4
        }
      ],
      "source": [
        "# obtain necessary libraries for the program\n",
        "!pip install gymnasium\n",
        "import gymnasium as gym\n",
        "import numpy as np\n",
        "import time\n",
        "\n",
        "# create the environment\n",
        "env = gym.make('CliffWalking-v0', render_mode='rgb_array')\n",
        "env.reset()\n",
        "env.render()"
      ]
    },
    {
      "cell_type": "code",
      "source": [
        "# Q-learning function\n",
        "def qlearn(num_episodes, gamma=0.7):\n",
        "    # initializing statistics\n",
        "    rewards = []\n",
        "    best_reward = -999\n",
        "    best_episode = []\n",
        "\n",
        "    ### algorithm\n",
        "    Q = [[0 for col in range(env.unwrapped.nA)] for row in range(env.unwrapped.nS)]  # create q table\n",
        "\n",
        "    for i in range(num_episodes):\n",
        "        # initializing statistics for individual episodes\n",
        "        episode = []\n",
        "        episode_reward = 0\n",
        "\n",
        "        state, _ = env.reset()  # get new enviro\n",
        "        done = False\n",
        "        while not done:  # while environment not solved\n",
        "          value_noise = np.random.randn(1, env.unwrapped.nA)*(1./(i+1))  # add spontaneity to decision making\n",
        "          # Spontaneity means the agent explore more rather than always going with the 'safe path'\n",
        "          action_idx = np.argmax(Q[state] + value_noise)\n",
        "          next_state, reward, done, _, _ = env.step(action_idx)\n",
        "          Q[state][action_idx] = reward + gamma * np.max(Q[next_state])\n",
        "          state = next_state\n",
        "\n",
        "          ### Statistics & visualization ###\n",
        "          episode_reward += reward  # accumulating total reward received in current episode\n",
        "          episode.append(env.render())  # save frame of episode for later visualization\n",
        "\n",
        "        if (i+1) % 50 == 0:\n",
        "            print(f'Episode {i + 1} Reward: {episode_reward}')\n",
        "\n",
        "        if episode_reward > best_reward:\n",
        "            best_episode = episode\n",
        "\n",
        "        rewards.append(episode_reward)\n",
        "\n",
        "    return Q, rewards, best_episode\n",
        "\n",
        "Q, rewards, best_episode = qlearn(1000)\n",
        "print('Average reward for first 100 episodes:', np.mean(rewards[:100]))\n",
        "print('Average reward for last 100 episodes:', np.mean(rewards[-100:]))"
      ],
      "metadata": {
        "colab": {
          "base_uri": "https://localhost:8080/"
        },
        "id": "w3_3MEAiIqxS",
        "outputId": "0251448a-45a7-47e4-ff86-b02bfee0259f"
      },
      "execution_count": null,
      "outputs": [
        {
          "output_type": "stream",
          "name": "stdout",
          "text": [
            "Episode 50 Reward: -32\n",
            "Episode 100 Reward: -13\n",
            "Episode 150 Reward: -13\n",
            "Episode 200 Reward: -13\n",
            "Episode 250 Reward: -13\n",
            "Episode 300 Reward: -13\n",
            "Episode 350 Reward: -13\n",
            "Episode 400 Reward: -13\n",
            "Episode 450 Reward: -13\n",
            "Episode 500 Reward: -13\n",
            "Episode 550 Reward: -13\n",
            "Episode 600 Reward: -13\n",
            "Episode 650 Reward: -13\n",
            "Episode 700 Reward: -13\n",
            "Episode 750 Reward: -13\n",
            "Episode 800 Reward: -13\n",
            "Episode 850 Reward: -13\n",
            "Episode 900 Reward: -13\n",
            "Episode 950 Reward: -13\n",
            "Episode 1000 Reward: -13\n",
            "Average reward for first 100 episodes: -41.78\n",
            "Average reward for last 100 episodes: -13.0\n"
          ]
        }
      ]
    },
    {
      "cell_type": "code",
      "source": [
        "# for visualizing episodes using the 'trained' agent (updated Q table represents agent gained understanding)\n",
        "# def test_episode(gamma=0.75):\n",
        "state, _ = env.reset()  # get new enviro\n",
        "frame = env.reset()\n",
        "done = False\n",
        "actions = {0: \"up\", 1: \"right\", 2: \"down\", 3: \"left\"}\n",
        "while not done:  # while environment not solved\n",
        "  action_idx = np.argmax(Q[state])\n",
        "  print(f\"action: {actions[action_idx]}\")\n",
        "  next_state, reward, done, _1, _2 = env.step(action_idx)\n",
        "  state = next_state\n",
        "  env.render()\n",
        "  time.sleep(0.5)\n",
        "  if done:\n",
        "    break\n"
      ],
      "metadata": {
        "colab": {
          "base_uri": "https://localhost:8080/"
        },
        "id": "xiFcpmtpSjtJ",
        "outputId": "6fb54aba-6c35-45fa-9775-abfbd432db65"
      },
      "execution_count": null,
      "outputs": [
        {
          "output_type": "stream",
          "name": "stdout",
          "text": [
            "action: up\n",
            "action: right\n",
            "action: right\n",
            "action: right\n",
            "action: right\n",
            "action: right\n",
            "action: right\n",
            "action: right\n",
            "action: right\n",
            "action: right\n",
            "action: right\n",
            "action: right\n",
            "action: down\n"
          ]
        }
      ]
    },
    {
      "cell_type": "code",
      "source": [
        "# for visualization purposes (attempt 2)\n",
        "state = env.reset()\n",
        "for i in range(13):\n",
        "  env.render()\n",
        "  time.sleep(0.5)\n",
        "  action = np.argmax(Q[state[0]])\n",
        "  print(f\"action: {action}\")\n",
        "  next_state, reward, done, _, _ = env.step(action)\n",
        "  state = next_state\n",
        "  if done:\n",
        "    break\n"
      ],
      "metadata": {
        "colab": {
          "base_uri": "https://localhost:8080/",
          "height": 228
        },
        "id": "bu8uE_q4RQSt",
        "outputId": "75a2d810-f8b8-40cb-f899-40147342861a"
      },
      "execution_count": null,
      "outputs": [
        {
          "output_type": "stream",
          "name": "stdout",
          "text": [
            "action: 0\n"
          ]
        },
        {
          "output_type": "error",
          "ename": "TypeError",
          "evalue": "'int' object is not subscriptable",
          "traceback": [
            "\u001b[0;31m---------------------------------------------------------------------------\u001b[0m",
            "\u001b[0;31mTypeError\u001b[0m                                 Traceback (most recent call last)",
            "\u001b[0;32m<ipython-input-22-5e22823b43ad>\u001b[0m in \u001b[0;36m<cell line: 3>\u001b[0;34m()\u001b[0m\n\u001b[1;32m      4\u001b[0m   \u001b[0menv\u001b[0m\u001b[0;34m.\u001b[0m\u001b[0mrender\u001b[0m\u001b[0;34m(\u001b[0m\u001b[0;34m)\u001b[0m\u001b[0;34m\u001b[0m\u001b[0;34m\u001b[0m\u001b[0m\n\u001b[1;32m      5\u001b[0m   \u001b[0mtime\u001b[0m\u001b[0;34m.\u001b[0m\u001b[0msleep\u001b[0m\u001b[0;34m(\u001b[0m\u001b[0;36m0.5\u001b[0m\u001b[0;34m)\u001b[0m\u001b[0;34m\u001b[0m\u001b[0;34m\u001b[0m\u001b[0m\n\u001b[0;32m----> 6\u001b[0;31m   \u001b[0maction\u001b[0m \u001b[0;34m=\u001b[0m \u001b[0mnp\u001b[0m\u001b[0;34m.\u001b[0m\u001b[0margmax\u001b[0m\u001b[0;34m(\u001b[0m\u001b[0mQ\u001b[0m\u001b[0;34m[\u001b[0m\u001b[0mstate\u001b[0m\u001b[0;34m[\u001b[0m\u001b[0;36m0\u001b[0m\u001b[0;34m]\u001b[0m\u001b[0;34m]\u001b[0m\u001b[0;34m)\u001b[0m\u001b[0;34m\u001b[0m\u001b[0;34m\u001b[0m\u001b[0m\n\u001b[0m\u001b[1;32m      7\u001b[0m   \u001b[0mprint\u001b[0m\u001b[0;34m(\u001b[0m\u001b[0;34mf\"action: {action}\"\u001b[0m\u001b[0;34m)\u001b[0m\u001b[0;34m\u001b[0m\u001b[0;34m\u001b[0m\u001b[0m\n\u001b[1;32m      8\u001b[0m   \u001b[0mnext_state\u001b[0m\u001b[0;34m,\u001b[0m \u001b[0mreward\u001b[0m\u001b[0;34m,\u001b[0m \u001b[0mdone\u001b[0m\u001b[0;34m,\u001b[0m \u001b[0m_\u001b[0m\u001b[0;34m,\u001b[0m \u001b[0m_\u001b[0m \u001b[0;34m=\u001b[0m \u001b[0menv\u001b[0m\u001b[0;34m.\u001b[0m\u001b[0mstep\u001b[0m\u001b[0;34m(\u001b[0m\u001b[0maction\u001b[0m\u001b[0;34m)\u001b[0m\u001b[0;34m\u001b[0m\u001b[0;34m\u001b[0m\u001b[0m\n",
            "\u001b[0;31mTypeError\u001b[0m: 'int' object is not subscriptable"
          ]
        }
      ]
    },
    {
      "cell_type": "code",
      "source": [
        "env.render()\n",
        "env.reset()\n",
        "env.render()\n",
        "env.step(env.action_space.sample())\n",
        "print(env.action_space.sample())\n",
        "env.render()"
      ],
      "metadata": {
        "colab": {
          "base_uri": "https://localhost:8080/",
          "height": 298
        },
        "id": "cKyW6hqGRt8Z",
        "outputId": "7c43bed5-267c-4476-b7c6-46b7c694dae8"
      },
      "execution_count": null,
      "outputs": [
        {
          "output_type": "stream",
          "name": "stdout",
          "text": [
            "1\n"
          ]
        },
        {
          "output_type": "execute_result",
          "data": {
            "text/plain": [
              "array([[[ 91, 150,  97],\n",
              "        [ 91, 150,  97],\n",
              "        [ 91, 150,  97],\n",
              "        ...,\n",
              "        [ 86, 170,  69],\n",
              "        [ 86, 170,  69],\n",
              "        [ 86, 170,  69]],\n",
              "\n",
              "       [[ 91, 150,  97],\n",
              "        [ 91, 150,  97],\n",
              "        [ 91, 150,  97],\n",
              "        ...,\n",
              "        [ 86, 170,  69],\n",
              "        [ 86, 170,  69],\n",
              "        [ 86, 170,  69]],\n",
              "\n",
              "       [[ 91, 150,  97],\n",
              "        [ 91, 150,  97],\n",
              "        [ 98, 166, 105],\n",
              "        ...,\n",
              "        [105, 182,  74],\n",
              "        [105, 182,  74],\n",
              "        [ 86, 170,  69]],\n",
              "\n",
              "       ...,\n",
              "\n",
              "       [[ 86, 170,  69],\n",
              "        [ 86, 170,  69],\n",
              "        [ 93, 188,  74],\n",
              "        ...,\n",
              "        [ 91, 150,  97],\n",
              "        [ 91, 150,  97],\n",
              "        [ 91, 150,  97]],\n",
              "\n",
              "       [[ 86, 170,  69],\n",
              "        [ 86, 170,  69],\n",
              "        [ 93, 188,  74],\n",
              "        ...,\n",
              "        [ 91, 150,  97],\n",
              "        [ 91, 150,  97],\n",
              "        [ 91, 150,  97]],\n",
              "\n",
              "       [[ 86, 170,  69],\n",
              "        [ 86, 170,  69],\n",
              "        [ 86, 170,  69],\n",
              "        ...,\n",
              "        [ 91, 150,  97],\n",
              "        [ 91, 150,  97],\n",
              "        [ 91, 150,  97]]], dtype=uint8)"
            ],
            "text/html": [
              "<style>\n",
              "      .ndarray_repr .ndarray_raw_data {\n",
              "        display: none;\n",
              "      }\n",
              "      .ndarray_repr.show_array .ndarray_raw_data {\n",
              "        display: block;\n",
              "      }\n",
              "      .ndarray_repr.show_array .ndarray_image_preview {\n",
              "        display: none;\n",
              "      }\n",
              "      </style>\n",
              "      <div id=\"id-3e578029-12e7-45f7-af30-27ba1999e0b6\" class=\"ndarray_repr\"><pre>ndarray (240, 720, 3) <button style=\"padding: 0 2px;\">show data</button></pre><img src=\"data:image/png;base64,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\" class=\"ndarray_image_preview\" /><pre class=\"ndarray_raw_data\">array([[[ 91, 150,  97],\n",
              "        [ 91, 150,  97],\n",
              "        [ 91, 150,  97],\n",
              "        ...,\n",
              "        [ 86, 170,  69],\n",
              "        [ 86, 170,  69],\n",
              "        [ 86, 170,  69]],\n",
              "\n",
              "       [[ 91, 150,  97],\n",
              "        [ 91, 150,  97],\n",
              "        [ 91, 150,  97],\n",
              "        ...,\n",
              "        [ 86, 170,  69],\n",
              "        [ 86, 170,  69],\n",
              "        [ 86, 170,  69]],\n",
              "\n",
              "       [[ 91, 150,  97],\n",
              "        [ 91, 150,  97],\n",
              "        [ 98, 166, 105],\n",
              "        ...,\n",
              "        [105, 182,  74],\n",
              "        [105, 182,  74],\n",
              "        [ 86, 170,  69]],\n",
              "\n",
              "       ...,\n",
              "\n",
              "       [[ 86, 170,  69],\n",
              "        [ 86, 170,  69],\n",
              "        [ 93, 188,  74],\n",
              "        ...,\n",
              "        [ 91, 150,  97],\n",
              "        [ 91, 150,  97],\n",
              "        [ 91, 150,  97]],\n",
              "\n",
              "       [[ 86, 170,  69],\n",
              "        [ 86, 170,  69],\n",
              "        [ 93, 188,  74],\n",
              "        ...,\n",
              "        [ 91, 150,  97],\n",
              "        [ 91, 150,  97],\n",
              "        [ 91, 150,  97]],\n",
              "\n",
              "       [[ 86, 170,  69],\n",
              "        [ 86, 170,  69],\n",
              "        [ 86, 170,  69],\n",
              "        ...,\n",
              "        [ 91, 150,  97],\n",
              "        [ 91, 150,  97],\n",
              "        [ 91, 150,  97]]], dtype=uint8)</pre></div><script>\n",
              "      (() => {\n",
              "      const titles = ['show data', 'hide data'];\n",
              "      let index = 0\n",
              "      document.querySelector('#id-3e578029-12e7-45f7-af30-27ba1999e0b6 button').onclick = (e) => {\n",
              "        document.querySelector('#id-3e578029-12e7-45f7-af30-27ba1999e0b6').classList.toggle('show_array');\n",
              "        index = (++index) % 2;\n",
              "        document.querySelector('#id-3e578029-12e7-45f7-af30-27ba1999e0b6 button').textContent = titles[index];\n",
              "        e.preventDefault();\n",
              "        e.stopPropagation();\n",
              "      }\n",
              "      })();\n",
              "    </script>"
            ]
          },
          "metadata": {},
          "execution_count": 25
        }
      ]
    }
  ]
}